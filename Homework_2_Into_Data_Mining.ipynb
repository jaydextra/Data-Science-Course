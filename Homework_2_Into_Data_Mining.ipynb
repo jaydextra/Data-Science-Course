{
  "nbformat": 4,
  "nbformat_minor": 0,
  "metadata": {
    "colab": {
      "provenance": [],
      "authorship_tag": "ABX9TyNZb1BRgdprI+CtAu0050No",
      "include_colab_link": true
    },
    "kernelspec": {
      "name": "ir",
      "display_name": "R"
    },
    "language_info": {
      "name": "R"
    }
  },
  "cells": [
    {
      "cell_type": "markdown",
      "metadata": {
        "id": "view-in-github",
        "colab_type": "text"
      },
      "source": [
        "<a href=\"https://colab.research.google.com/github/jaydextra/IBM-Data-Science-Course/blob/Master/Homework_2_Into_Data_Mining.ipynb\" target=\"_parent\"><img src=\"https://colab.research.google.com/assets/colab-badge.svg\" alt=\"Open In Colab\"/></a>"
      ]
    },
    {
      "cell_type": "markdown",
      "source": [
        "#### creating R Vector"
      ],
      "metadata": {
        "id": "VSs0ppJwRiPl"
      }
    },
    {
      "cell_type": "code",
      "execution_count": 1,
      "metadata": {
        "id": "jnzUoRFqQcA6"
      },
      "outputs": [],
      "source": [
        "\n",
        "mileage <- c(65311, 65624, 65908, 66219, 66499, 66821, 67145, 67447)"
      ]
    },
    {
      "cell_type": "markdown",
      "source": [
        "#### calcutate diff() on data\n"
      ],
      "metadata": {
        "id": "Ds_NLRaLRV9X"
      }
    },
    {
      "cell_type": "code",
      "source": [
        "#calcutate diff() on data\n",
        "differences <- diff(mileage)\n",
        "differences\n"
      ],
      "metadata": {
        "colab": {
          "base_uri": "https://localhost:8080/",
          "height": 34
        },
        "id": "DGUScqgFQ3QU",
        "outputId": "449f9aec-f2cf-4040-a07f-2a825107ae86"
      },
      "execution_count": 2,
      "outputs": [
        {
          "output_type": "display_data",
          "data": {
            "text/html": [
              "<style>\n",
              ".list-inline {list-style: none; margin:0; padding: 0}\n",
              ".list-inline>li {display: inline-block}\n",
              ".list-inline>li:not(:last-child)::after {content: \"\\00b7\"; padding: 0 .5ex}\n",
              "</style>\n",
              "<ol class=list-inline><li>313</li><li>284</li><li>311</li><li>280</li><li>322</li><li>324</li><li>302</li></ol>\n"
            ],
            "text/markdown": "1. 313\n2. 284\n3. 311\n4. 280\n5. 322\n6. 324\n7. 302\n\n\n",
            "text/latex": "\\begin{enumerate*}\n\\item 313\n\\item 284\n\\item 311\n\\item 280\n\\item 322\n\\item 324\n\\item 302\n\\end{enumerate*}\n",
            "text/plain": [
              "[1] 313 284 311 280 322 324 302"
            ]
          },
          "metadata": {}
        }
      ]
    },
    {
      "cell_type": "markdown",
      "source": [
        "#### Calc length() to find the lengths of the miles and x vectors."
      ],
      "metadata": {
        "id": "tBthbDASRO_k"
      }
    },
    {
      "cell_type": "code",
      "source": [
        "\n",
        "\n",
        "length(mileage)\n",
        "\n",
        "length(differences)"
      ],
      "metadata": {
        "colab": {
          "base_uri": "https://localhost:8080/",
          "height": 52
        },
        "id": "6QpON0sVQ4ge",
        "outputId": "575fe12d-7edf-49f6-9f03-d41cca201af0"
      },
      "execution_count": 3,
      "outputs": [
        {
          "output_type": "display_data",
          "data": {
            "text/html": [
              "8"
            ],
            "text/markdown": "8",
            "text/latex": "8",
            "text/plain": [
              "[1] 8"
            ]
          },
          "metadata": {}
        },
        {
          "output_type": "display_data",
          "data": {
            "text/html": [
              "7"
            ],
            "text/markdown": "7",
            "text/latex": "7",
            "text/plain": [
              "[1] 7"
            ]
          },
          "metadata": {}
        }
      ]
    },
    {
      "cell_type": "markdown",
      "source": [
        "#### Explain the result\n",
        "#### The length() function returns the number of elements in a vector. Our original vector contained 8 elements. The diff() function calculates the differences between consecutive elements. After applying diff() we end up with one less element giving us a length of 7.\n"
      ],
      "metadata": {
        "id": "7XdAGDWPQ9Pn"
      }
    },
    {
      "cell_type": "markdown",
      "source": [
        "#### maximum and minimum number of miles between fill-ups"
      ],
      "metadata": {
        "id": "1St3pfoiR6Cf"
      }
    },
    {
      "cell_type": "code",
      "source": [
        "max(differences)\n",
        "min(differences)\n"
      ],
      "metadata": {
        "colab": {
          "base_uri": "https://localhost:8080/",
          "height": 52
        },
        "id": "ZFQIlcEARmDC",
        "outputId": "1b5f9bc3-40e7-4734-bfe2-b6ffe25b5f34"
      },
      "execution_count": 7,
      "outputs": [
        {
          "output_type": "display_data",
          "data": {
            "text/html": [
              "324"
            ],
            "text/markdown": "324",
            "text/latex": "324",
            "text/plain": [
              "[1] 324"
            ]
          },
          "metadata": {}
        },
        {
          "output_type": "display_data",
          "data": {
            "text/html": [
              "280"
            ],
            "text/markdown": "280",
            "text/latex": "280",
            "text/plain": [
              "[1] 280"
            ]
          },
          "metadata": {}
        }
      ]
    },
    {
      "cell_type": "markdown",
      "source": [
        "#### The average number of miles between fill-ups"
      ],
      "metadata": {
        "id": "yvfyA0rzSdTk"
      }
    },
    {
      "cell_type": "code",
      "source": [
        "mean(differences)"
      ],
      "metadata": {
        "colab": {
          "base_uri": "https://localhost:8080/",
          "height": 34
        },
        "id": "gbXE6sOjSg5w",
        "outputId": "d77f4109-6f15-4879-ad5d-b371e95d82b5"
      },
      "execution_count": 8,
      "outputs": [
        {
          "output_type": "display_data",
          "data": {
            "text/html": [
              "305.142857142857"
            ],
            "text/markdown": "305.142857142857",
            "text/latex": "305.142857142857",
            "text/plain": [
              "[1] 305.1429"
            ]
          },
          "metadata": {}
        }
      ]
    },
    {
      "cell_type": "markdown",
      "source": [
        "#### The standard deviation"
      ],
      "metadata": {
        "id": "lfTtxi94Sv57"
      }
    },
    {
      "cell_type": "code",
      "source": [
        "sd(differences)"
      ],
      "metadata": {
        "colab": {
          "base_uri": "https://localhost:8080/",
          "height": 34
        },
        "id": "4MAC9MslS3Zl",
        "outputId": "79d64c61-5f10-4a2e-bcb1-a3a627620dc8"
      },
      "execution_count": 9,
      "outputs": [
        {
          "output_type": "display_data",
          "data": {
            "text/html": [
              "17.4396920025228"
            ],
            "text/markdown": "17.4396920025228",
            "text/latex": "17.4396920025228",
            "text/plain": [
              "[1] 17.43969"
            ]
          },
          "metadata": {}
        }
      ]
    },
    {
      "cell_type": "markdown",
      "source": [
        "#### 2. Create Commute Vector"
      ],
      "metadata": {
        "id": "RFqs6BVHTPeg"
      }
    },
    {
      "cell_type": "code",
      "source": [
        "commute <- c(17, 16, 20, 24, 22, 15, 21, 15, 17, 22)"
      ],
      "metadata": {
        "id": "O9ntnmd7TVk2"
      },
      "execution_count": 10,
      "outputs": []
    },
    {
      "cell_type": "markdown",
      "source": [
        "#### Average and a statistical summary"
      ],
      "metadata": {
        "id": "G-y93fosTeko"
      }
    },
    {
      "cell_type": "code",
      "source": [
        "mean(commute)\n",
        "summary(commute)"
      ],
      "metadata": {
        "colab": {
          "base_uri": "https://localhost:8080/",
          "height": 70
        },
        "id": "PpmgCUy9TrPT",
        "outputId": "52721ae7-7cd8-454c-e959-521c0ca23add"
      },
      "execution_count": 11,
      "outputs": [
        {
          "output_type": "display_data",
          "data": {
            "text/html": [
              "18.9"
            ],
            "text/markdown": "18.9",
            "text/latex": "18.9",
            "text/plain": [
              "[1] 18.9"
            ]
          },
          "metadata": {}
        },
        {
          "output_type": "display_data",
          "data": {
            "text/plain": [
              "   Min. 1st Qu.  Median    Mean 3rd Qu.    Max. \n",
              "  15.00   16.25   18.50   18.90   21.75   24.00 "
            ]
          },
          "metadata": {}
        }
      ]
    },
    {
      "cell_type": "markdown",
      "source": [
        "#### Replace 18 in vector with 24"
      ],
      "metadata": {
        "id": "zP38HNnBUeO4"
      }
    },
    {
      "cell_type": "code",
      "source": [
        " # Find the index\n",
        "x <- which(commute == 24)\n",
        "\n",
        "# Replace the value\n",
        "commute[x] <- 18\n",
        "\n",
        "# Calculate the new average\n",
        "mean(commute)\n"
      ],
      "metadata": {
        "colab": {
          "base_uri": "https://localhost:8080/",
          "height": 34
        },
        "id": "BjQ2HE22Uo2z",
        "outputId": "6b696b66-55c9-4c42-f8cc-45d7623c4c14"
      },
      "execution_count": 12,
      "outputs": [
        {
          "output_type": "display_data",
          "data": {
            "text/html": [
              "18.3"
            ],
            "text/markdown": "18.3",
            "text/latex": "18.3",
            "text/plain": [
              "[1] 18.3"
            ]
          },
          "metadata": {}
        }
      ]
    },
    {
      "cell_type": "markdown",
      "source": [
        "#### How many times commute was greater than 20"
      ],
      "metadata": {
        "id": "GzQgRVWmVuDz"
      }
    },
    {
      "cell_type": "code",
      "source": [
        "sum(commute >= 20)"
      ],
      "metadata": {
        "colab": {
          "base_uri": "https://localhost:8080/",
          "height": 34
        },
        "id": "L9kWRo9UV0PW",
        "outputId": "a3d5ee27-7ebd-487a-b02b-455b06fae623"
      },
      "execution_count": 13,
      "outputs": [
        {
          "output_type": "display_data",
          "data": {
            "text/html": [
              "4"
            ],
            "text/markdown": "4",
            "text/latex": "4",
            "text/plain": [
              "[1] 4"
            ]
          },
          "metadata": {}
        }
      ]
    },
    {
      "cell_type": "markdown",
      "source": [
        "#### What percent of your commutes are less than 17 minutes? How can you answer this with R?"
      ],
      "metadata": {
        "id": "j2tBxclHWG2N"
      }
    },
    {
      "cell_type": "code",
      "source": [
        "# Count how many times the commute was less than 17 minutes\n",
        "Commute_under_17 <- sum(commute < 17)\n",
        "\n",
        "# Calculate the percentage\n",
        "(Commute_under_17 / length(commute)) * 100\n",
        "\n"
      ],
      "metadata": {
        "colab": {
          "base_uri": "https://localhost:8080/",
          "height": 34
        },
        "id": "TkhxD-lBWMvh",
        "outputId": "91c67ba4-d339-494f-b5bd-59553b637521"
      },
      "execution_count": 15,
      "outputs": [
        {
          "output_type": "display_data",
          "data": {
            "text/html": [
              "30"
            ],
            "text/markdown": "30",
            "text/latex": "30",
            "text/plain": [
              "[1] 30"
            ]
          },
          "metadata": {}
        }
      ]
    },
    {
      "cell_type": "markdown",
      "source": [
        "#### Briefly explain the result of the following commands."
      ],
      "metadata": {
        "id": "q4fviqlWZts_"
      }
    },
    {
      "cell_type": "code",
      "source": [
        "#This will add 1 to each vector element\n",
        "commute + 1"
      ],
      "metadata": {
        "colab": {
          "base_uri": "https://localhost:8080/",
          "height": 34
        },
        "id": "g9sJpAAxZvPp",
        "outputId": "3a2900c7-91ab-48c7-d39c-dec4bb99cdb2"
      },
      "execution_count": 18,
      "outputs": [
        {
          "output_type": "display_data",
          "data": {
            "text/html": [
              "<style>\n",
              ".list-inline {list-style: none; margin:0; padding: 0}\n",
              ".list-inline>li {display: inline-block}\n",
              ".list-inline>li:not(:last-child)::after {content: \"\\00b7\"; padding: 0 .5ex}\n",
              "</style>\n",
              "<ol class=list-inline><li>18</li><li>17</li><li>21</li><li>19</li><li>23</li><li>16</li><li>22</li><li>16</li><li>18</li><li>23</li></ol>\n"
            ],
            "text/markdown": "1. 18\n2. 17\n3. 21\n4. 19\n5. 23\n6. 16\n7. 22\n8. 16\n9. 18\n10. 23\n\n\n",
            "text/latex": "\\begin{enumerate*}\n\\item 18\n\\item 17\n\\item 21\n\\item 19\n\\item 23\n\\item 16\n\\item 22\n\\item 16\n\\item 18\n\\item 23\n\\end{enumerate*}\n",
            "text/plain": [
              " [1] 18 17 21 19 23 16 22 16 18 23"
            ]
          },
          "metadata": {}
        }
      ]
    },
    {
      "cell_type": "code",
      "source": [
        "# This will return the vector without the 6th element\n",
        "commute[-6]"
      ],
      "metadata": {
        "colab": {
          "base_uri": "https://localhost:8080/",
          "height": 34
        },
        "id": "jV8QIYmWZ0fF",
        "outputId": "2401f6f4-3ef2-43d9-d3ef-b0705c76347f"
      },
      "execution_count": 19,
      "outputs": [
        {
          "output_type": "display_data",
          "data": {
            "text/html": [
              "<style>\n",
              ".list-inline {list-style: none; margin:0; padding: 0}\n",
              ".list-inline>li {display: inline-block}\n",
              ".list-inline>li:not(:last-child)::after {content: \"\\00b7\"; padding: 0 .5ex}\n",
              "</style>\n",
              "<ol class=list-inline><li>17</li><li>16</li><li>20</li><li>18</li><li>22</li><li>21</li><li>15</li><li>17</li><li>22</li></ol>\n"
            ],
            "text/markdown": "1. 17\n2. 16\n3. 20\n4. 18\n5. 22\n6. 21\n7. 15\n8. 17\n9. 22\n\n\n",
            "text/latex": "\\begin{enumerate*}\n\\item 17\n\\item 16\n\\item 20\n\\item 18\n\\item 22\n\\item 21\n\\item 15\n\\item 17\n\\item 22\n\\end{enumerate*}\n",
            "text/plain": [
              "[1] 17 16 20 18 22 21 15 17 22"
            ]
          },
          "metadata": {}
        }
      ]
    },
    {
      "cell_type": "code",
      "source": [
        "# This will return the count when commute vector was greater than 21 or less than 16\n",
        "sum(commute>21 | commute<16)"
      ],
      "metadata": {
        "colab": {
          "base_uri": "https://localhost:8080/",
          "height": 34
        },
        "id": "VAJEJ76AZ0ta",
        "outputId": "9cc59485-3ef5-4706-ff91-e539b94211a7"
      },
      "execution_count": 20,
      "outputs": [
        {
          "output_type": "display_data",
          "data": {
            "text/html": [
              "4"
            ],
            "text/markdown": "4",
            "text/latex": "4",
            "text/plain": [
              "[1] 4"
            ]
          },
          "metadata": {}
        }
      ]
    },
    {
      "cell_type": "code",
      "source": [
        "# this will only return elements that are greater than 17.\n",
        "commute[commute>=17]"
      ],
      "metadata": {
        "colab": {
          "base_uri": "https://localhost:8080/",
          "height": 34
        },
        "id": "ZBspmHjPZ0z3",
        "outputId": "6936fcb6-bc2b-4a90-c8fa-bc84bb865865"
      },
      "execution_count": 22,
      "outputs": [
        {
          "output_type": "display_data",
          "data": {
            "text/html": [
              "<style>\n",
              ".list-inline {list-style: none; margin:0; padding: 0}\n",
              ".list-inline>li {display: inline-block}\n",
              ".list-inline>li:not(:last-child)::after {content: \"\\00b7\"; padding: 0 .5ex}\n",
              "</style>\n",
              "<ol class=list-inline><li>17</li><li>20</li><li>18</li><li>22</li><li>21</li><li>17</li><li>22</li></ol>\n"
            ],
            "text/markdown": "1. 17\n2. 20\n3. 18\n4. 22\n5. 21\n6. 17\n7. 22\n\n\n",
            "text/latex": "\\begin{enumerate*}\n\\item 17\n\\item 20\n\\item 18\n\\item 22\n\\item 21\n\\item 17\n\\item 22\n\\end{enumerate*}\n",
            "text/plain": [
              "[1] 17 20 18 22 21 17 22"
            ]
          },
          "metadata": {}
        }
      ]
    },
    {
      "cell_type": "code",
      "source": [
        "# this first returns all elements greater than 20 then adds them up\n",
        "sum(commute[commute>20])"
      ],
      "metadata": {
        "colab": {
          "base_uri": "https://localhost:8080/",
          "height": 34
        },
        "id": "eujbltGJZ065",
        "outputId": "d062ebc1-9ebc-48fd-e272-59e074c67045"
      },
      "execution_count": 23,
      "outputs": [
        {
          "output_type": "display_data",
          "data": {
            "text/html": [
              "65"
            ],
            "text/markdown": "65",
            "text/latex": "65",
            "text/plain": [
              "[1] 65"
            ]
          },
          "metadata": {}
        }
      ]
    },
    {
      "cell_type": "code",
      "source": [
        "# this will extract the elements in the 4 through 6 indexed\n",
        "commute[4:6]"
      ],
      "metadata": {
        "id": "RayOw4dAZ-N_"
      },
      "execution_count": null,
      "outputs": []
    },
    {
      "cell_type": "markdown",
      "source": [
        "#### 3. Use R to compute the following functions. Note, we use xi to denote the first element of x (which is 1) etc."
      ],
      "metadata": {
        "id": "HZ7R5YBec7AE"
      }
    },
    {
      "cell_type": "code",
      "source": [
        "x <- c(1, 8, 2, 6, 3, 8, 5, 5, 5, 5)"
      ],
      "metadata": {
        "id": "qX0QPlSDdKd4"
      },
      "execution_count": 24,
      "outputs": []
    },
    {
      "cell_type": "code",
      "source": [
        "# (x1 + x2 + x3 + … + x10)/10 (use sum)\n",
        "(x[1] + x[2] + x[3] + x[4] + x[5] + x[6] + x[7] + x[8] + x[9] + x[10]) / 10\n"
      ],
      "metadata": {
        "colab": {
          "base_uri": "https://localhost:8080/",
          "height": 34
        },
        "id": "8CZfPINrc-VW",
        "outputId": "5f8fde09-5064-42bf-cb7b-b19f44a03bd4"
      },
      "execution_count": 26,
      "outputs": [
        {
          "output_type": "display_data",
          "data": {
            "text/html": [
              "4.8"
            ],
            "text/markdown": "4.8",
            "text/latex": "4.8",
            "text/plain": [
              "[1] 4.8"
            ]
          },
          "metadata": {}
        }
      ]
    },
    {
      "cell_type": "code",
      "source": [
        "# Find log10(xi) for every i (use log function, beware it defaults to e)\n",
        "log(x) / log(10)"
      ],
      "metadata": {
        "colab": {
          "base_uri": "https://localhost:8080/",
          "height": 34
        },
        "id": "hkbEfAwKeM_N",
        "outputId": "f7ddaa89-ff32-47a8-b978-bd783b062a79"
      },
      "execution_count": 28,
      "outputs": [
        {
          "output_type": "display_data",
          "data": {
            "text/html": [
              "<style>\n",
              ".list-inline {list-style: none; margin:0; padding: 0}\n",
              ".list-inline>li {display: inline-block}\n",
              ".list-inline>li:not(:last-child)::after {content: \"\\00b7\"; padding: 0 .5ex}\n",
              "</style>\n",
              "<ol class=list-inline><li>0</li><li>0.903089986991943</li><li>0.301029995663981</li><li>0.778151250383644</li><li>0.477121254719662</li><li>0.903089986991943</li><li>0.698970004336019</li><li>0.698970004336019</li><li>0.698970004336019</li><li>0.698970004336019</li></ol>\n"
            ],
            "text/markdown": "1. 0\n2. 0.903089986991943\n3. 0.301029995663981\n4. 0.778151250383644\n5. 0.477121254719662\n6. 0.903089986991943\n7. 0.698970004336019\n8. 0.698970004336019\n9. 0.698970004336019\n10. 0.698970004336019\n\n\n",
            "text/latex": "\\begin{enumerate*}\n\\item 0\n\\item 0.903089986991943\n\\item 0.301029995663981\n\\item 0.778151250383644\n\\item 0.477121254719662\n\\item 0.903089986991943\n\\item 0.698970004336019\n\\item 0.698970004336019\n\\item 0.698970004336019\n\\item 0.698970004336019\n\\end{enumerate*}\n",
            "text/plain": [
              " [1] 0.0000000 0.9030900 0.3010300 0.7781513 0.4771213 0.9030900 0.6989700\n",
              " [8] 0.6989700 0.6989700 0.6989700"
            ]
          },
          "metadata": {}
        }
      ]
    },
    {
      "cell_type": "code",
      "source": [
        "# Find (xi4.4)/2.875 for each i (all at once)\n",
        "x^4.4 / 2.875"
      ],
      "metadata": {
        "colab": {
          "base_uri": "https://localhost:8080/",
          "height": 34
        },
        "id": "TcfZ7q-oeUiS",
        "outputId": "38457284-500e-489b-e2e7-ea9affe638a6"
      },
      "execution_count": 29,
      "outputs": [
        {
          "output_type": "display_data",
          "data": {
            "text/html": [
              "<style>\n",
              ".list-inline {list-style: none; margin:0; padding: 0}\n",
              ".list-inline>li {display: inline-block}\n",
              ".list-inline>li:not(:last-child)::after {content: \"\\00b7\"; padding: 0 .5ex}\n",
              "</style>\n",
              "<ol class=list-inline><li>0.347826086956522</li><li>3273.09110404721</li><li>7.34334837299698</li><li>923.055156298668</li><li>43.721562256398</li><li>3273.09110404721</li><li>413.837812764322</li><li>413.837812764322</li><li>413.837812764322</li><li>413.837812764322</li></ol>\n"
            ],
            "text/markdown": "1. 0.347826086956522\n2. 3273.09110404721\n3. 7.34334837299698\n4. 923.055156298668\n5. 43.721562256398\n6. 3273.09110404721\n7. 413.837812764322\n8. 413.837812764322\n9. 413.837812764322\n10. 413.837812764322\n\n\n",
            "text/latex": "\\begin{enumerate*}\n\\item 0.347826086956522\n\\item 3273.09110404721\n\\item 7.34334837299698\n\\item 923.055156298668\n\\item 43.721562256398\n\\item 3273.09110404721\n\\item 413.837812764322\n\\item 413.837812764322\n\\item 413.837812764322\n\\item 413.837812764322\n\\end{enumerate*}\n",
            "text/plain": [
              " [1]    0.3478261 3273.0911040    7.3433484  923.0551563   43.7215623\n",
              " [6] 3273.0911040  413.8378128  413.8378128  413.8378128  413.8378128"
            ]
          },
          "metadata": {}
        }
      ]
    },
    {
      "cell_type": "code",
      "source": [
        "# Find the difference between the largest and smallest values of x.\n",
        "diff(range(x))"
      ],
      "metadata": {
        "colab": {
          "base_uri": "https://localhost:8080/",
          "height": 34
        },
        "id": "rdSlSNXse1bA",
        "outputId": "b3274769-72d1-47be-b502-0914b86954ea"
      },
      "execution_count": 30,
      "outputs": [
        {
          "output_type": "display_data",
          "data": {
            "text/html": [
              "7"
            ],
            "text/markdown": "7",
            "text/latex": "7",
            "text/plain": [
              "[1] 7"
            ]
          },
          "metadata": {}
        }
      ]
    },
    {
      "cell_type": "markdown",
      "source": [
        "#### 4. Your cell phone bill varies from month to month. Suppose that your bills had the following monthly amounts last year:"
      ],
      "metadata": {
        "id": "VzV9LKXBfRtF"
      }
    },
    {
      "cell_type": "code",
      "source": [
        "bill = c(46, 33, 39, 37, 46, 30, 48, 32, 49, 35, 30, 48)\n",
        "\n",
        "# Run the following calculations, and explain its result:\n",
        "\n",
        "range(bill) # it returns the min and max element in the vector\n",
        "range(bill)[2] - range(bill)[1] #this find the diff from the max vector in index 2 and the min vector in index 1\n",
        "\n"
      ],
      "metadata": {
        "colab": {
          "base_uri": "https://localhost:8080/",
          "height": 52
        },
        "id": "QFtRlWAlfYbS",
        "outputId": "651651de-7dfd-444d-8e23-b113342ea512"
      },
      "execution_count": 31,
      "outputs": [
        {
          "output_type": "display_data",
          "data": {
            "text/html": [
              "<style>\n",
              ".list-inline {list-style: none; margin:0; padding: 0}\n",
              ".list-inline>li {display: inline-block}\n",
              ".list-inline>li:not(:last-child)::after {content: \"\\00b7\"; padding: 0 .5ex}\n",
              "</style>\n",
              "<ol class=list-inline><li>30</li><li>49</li></ol>\n"
            ],
            "text/markdown": "1. 30\n2. 49\n\n\n",
            "text/latex": "\\begin{enumerate*}\n\\item 30\n\\item 49\n\\end{enumerate*}\n",
            "text/plain": [
              "[1] 30 49"
            ]
          },
          "metadata": {}
        },
        {
          "output_type": "display_data",
          "data": {
            "text/html": [
              "19"
            ],
            "text/markdown": "19",
            "text/latex": "19",
            "text/plain": [
              "[1] 19"
            ]
          },
          "metadata": {}
        }
      ]
    },
    {
      "cell_type": "code",
      "source": [
        "# months was the amount greater than $40\n",
        "months_greater_40 <- sum(bill > 40)\n",
        "months_greater_40\n",
        "\n",
        "# percantage month was greater than $40\n",
        "(months_greater_40  / length(bill)) * 100"
      ],
      "metadata": {
        "colab": {
          "base_uri": "https://localhost:8080/",
          "height": 52
        },
        "id": "_GKnsbXcgoZ3",
        "outputId": "e3afd8dc-b74c-46e3-bb7a-c5756866b348"
      },
      "execution_count": 33,
      "outputs": [
        {
          "output_type": "display_data",
          "data": {
            "text/html": [
              "5"
            ],
            "text/markdown": "5",
            "text/latex": "5",
            "text/plain": [
              "[1] 5"
            ]
          },
          "metadata": {}
        },
        {
          "output_type": "display_data",
          "data": {
            "text/html": [
              "41.6666666666667"
            ],
            "text/markdown": "41.6666666666667",
            "text/latex": "41.6666666666667",
            "text/plain": [
              "[1] 41.66667"
            ]
          },
          "metadata": {}
        }
      ]
    }
  ]
}